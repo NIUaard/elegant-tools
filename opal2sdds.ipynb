{
 "cells": [
  {
   "cell_type": "markdown",
   "id": "3e23b8b0-ed79-4d42-8601-32dd2792acd0",
   "metadata": {},
   "source": [
    "# <b> OPAL to sdds converter\n",
    "be sure to set the PYTHONPATH environment as ```export PYTHONPATH=/lstr/sahara/aard/philippe/codes/pyOPALTools/:$PYTHONPATH```"
   ]
  },
  {
   "cell_type": "code",
   "execution_count": 1,
   "id": "eb5c91d6-69fb-4a8d-8485-7956d7da9a96",
   "metadata": {
    "scrolled": true
   },
   "outputs": [
    {
     "data": {
      "text/plain": [
       "b'/lstr/sahara/aard/philippe/anl_awa_hghe/tracking-strhd/elegant\\n'"
      ]
     },
     "execution_count": 1,
     "metadata": {},
     "output_type": "execute_result"
    }
   ],
   "source": [
    "import sys \n",
    "import subprocess\n",
    "from matplotlib import rc\n",
    "import os \n",
    "sys.path.insert(0, '/lstr/sahara/aard/philippe/codes/pelegant_metis/elegant-tools')\n",
    "import numpy as np\n",
    "import matplotlib.pyplot as plt\n",
    "import eleganttool\n",
    "from IPython.display import display, Markdown\n",
    "import opal \n",
    "# install directories for PELEGANT and SDDS tools (should not be needed)\n",
    "sddspath='/lstr/sahara/aard/philippe/codes/pelegant_metis/epics/extensions/bin/linux-x86_64/'\n",
    "appspath='/lstr/sahara/aard/philippe/codes/pelegant_metis/oag/apps/bin/linux-x86_64/'\n",
    "\n",
    "FontSize=16\n",
    "          \n",
    "rc('font', **{'family': 'serif', 'serif': ['Computer Modern']})\n",
    "rc('xtick',labelsize=FontSize)\n",
    "rc('ytick',labelsize=FontSize)\n",
    "rc('font', **{'family': 'serif', 'serif': ['Computer Modern']})\n",
    "rc('text', usetex=True)\n",
    "rc('font', size = FontSize)\n",
    "\n",
    "PWD=subprocess.run('pwd',stdout=subprocess.PIPE)\n",
    "PWD.stdout"
   ]
  },
  {
   "cell_type": "code",
   "execution_count": 19,
   "id": "8fc03f1c-8b13-4802-bf23-dc9f7e674fd3",
   "metadata": {},
   "outputs": [],
   "source": [
    "# take data at a screen (where particle cross the screen at fix z)\n",
    "direc ='/lstr/sahara/aard/philippe/anl_awa_hghe/straightAhead/elegant/'\n",
    "scrn  = 'YAG4.h5'"
   ]
  },
  {
   "cell_type": "code",
   "execution_count": 26,
   "id": "7ef63c63-1044-409b-8c4f-6b3d9c8954be",
   "metadata": {},
   "outputs": [],
   "source": [
    "# take data from a phase-space dump\n",
    "#scrn  = 'input200k.h5'"
   ]
  },
  {
   "cell_type": "code",
   "execution_count": 27,
   "id": "ab96b1c8-1fe5-45a2-bc54-2d599d270413",
   "metadata": {
    "scrolled": true
   },
   "outputs": [
    {
     "name": "stdout",
     "output_type": "stream",
     "text": [
      "\n",
      "\tH5 dataset.\n",
      "\n",
      "\tNumber of steps: 43\n",
      "\n",
      "\tAvailable step attributes (28):\n",
      "\n",
      "\t#sigma              \n",
      "\t#varepsilon         \n",
      "\t#varepsilon-geom    \n",
      "\tB-ref               \n",
      "\tCHARGE              \n",
      "\tE-ref               \n",
      "\tENERGY              \n",
      "\tGlobalTrackStep     \n",
      "\tLocalTrackStep      \n",
      "\tMASS                \n",
      "\tMEANP               \n",
      "\tNumBunch            \n",
      "\tOPAL_flavour        \n",
      "\tRMSP                \n",
      "\tRMSX                \n",
      "\tRefPartP            \n",
      "\tRefPartR            \n",
      "\tSPOS                \n",
      "\tStep                \n",
      "\tSteptoLastInj       \n",
      "\tTIME                \n",
      "\tTaitBryantAngles    \n",
      "\tcentroid            \n",
      "\tdE                  \n",
      "\tmaxP                \n",
      "\tmaxX                \n",
      "\tminP                \n",
      "\tminX                \n",
      "\n",
      "\n",
      "\tAvailable step datasets (10):\n",
      "\n",
      "\tid                  \n",
      "\tporigin             \n",
      "\tptype               \n",
      "\tpx                  \n",
      "\tpy                  \n",
      "\tpz                  \n",
      "\tq                   \n",
      "\tx                   \n",
      "\ty                   \n",
      "\tz                   \n",
      "\n"
     ]
    }
   ],
   "source": [
    "coord = opal.load_dataset('./',fname=scrn)\n",
    "print(coord)\n",
    "\n"
   ]
  },
  {
   "cell_type": "code",
   "execution_count": 28,
   "id": "3995e79e-07c9-41a8-87d2-3cb1fec7c748",
   "metadata": {},
   "outputs": [
    {
     "name": "stdout",
     "output_type": "stream",
     "text": [
      "199999\n",
      "total charge: -4.999974999989523e-09\n"
     ]
    }
   ],
   "source": [
    "#coord.plot_phase_space('time', 'x', xsci=True, ysci=True)\n",
    "# bugg in ENERGY parameter ouput from the hdf5 file ? \n",
    "Step=-1\n",
    "meanp          = coord.getData('MEANP', step=0)\n",
    "betagamma_mean = np.sqrt(np.sum(meanp[0,:]**2))\n",
    "gamma_mean     = np.sqrt(1+betagamma_mean**2)\n",
    "x  = coord.getData('x', step=Step)\n",
    "px = coord.getData('px', step=Step)\n",
    "y  = coord.getData('y', step=Step)\n",
    "py = coord.getData('py', step=Step)\n",
    "t  = coord.getData('time', step=Step)  # not define for the phase-space dump\n",
    "z  = coord.getData ('z',step=Step)     # meaningless for a screen output\n",
    "pz = coord.getData('pz', step=Step)\n",
    "id = coord.getData('id', step=Step)\n",
    "qm = coord.getData('q', step=Step)\n",
    "print(len(id))\n",
    "A  = np.vstack((x,px/pz,y, py/pz, t, np.sqrt(px**2+py**2+pz**2),id))\n",
    "np.shape(A)\n",
    "\n",
    "print ('total charge:',sum(qm))\n"
   ]
  },
  {
   "cell_type": "code",
   "execution_count": 29,
   "id": "b5486f8c-a5ce-493a-8e61-8de96aeef4dc",
   "metadata": {},
   "outputs": [
    {
     "data": {
      "text/plain": [
       "[<matplotlib.lines.Line2D at 0x7ff410e1b670>]"
      ]
     },
     "execution_count": 29,
     "metadata": {},
     "output_type": "execute_result"
    },
    {
     "data": {
      "image/png": "[encoded data removed]",
      "text/plain": [
       "<Figure size 640x480 with 1 Axes>"
      ]
     },
     "metadata": {},
     "output_type": "display_data"
    }
   ],
   "source": [
    "# check tiome versus z \n",
    "plt.plot (z,pz,'.',markersize=1,alpha=0.1)"
   ]
  },
  {
   "cell_type": "code",
   "execution_count": 24,
   "id": "e5273d07-5cd9-454c-b995-8aa30c172a32",
   "metadata": {},
   "outputs": [
    {
     "data": {
      "text/plain": [
       "[<matplotlib.lines.Line2D at 0x7ff410e91100>]"
      ]
     },
     "execution_count": 24,
     "metadata": {},
     "output_type": "execute_result"
    },
    {
     "data": {
      "image/png": "[encoded data removed]",
      "text/plain": [
       "<Figure size 640x480 with 1 Axes>"
      ]
     },
     "metadata": {},
     "output_type": "display_data"
    }
   ],
   "source": [
    "plt.plot (t,pz,'.',markersize=1,alpha=0.1)"
   ]
  },
  {
   "cell_type": "code",
   "execution_count": null,
   "id": "13b5fe5b-b50a-41ea-89b1-d6c0dd3ea435",
   "metadata": {},
   "outputs": [],
   "source": []
  },
  {
   "cell_type": "code",
   "execution_count": 132,
   "id": "efad60eb-5acd-4b2e-80db-5389726d784d",
   "metadata": {},
   "outputs": [],
   "source": [
    "def writeT(file, a):\n",
    "    \"\"\"Write a two-dim. NumPy array a in tabular form.\"\"\"\n",
    "    print('writing ...')\n",
    "    if len(a.shape) > 2:\n",
    "        raise TypeError(\"a 2D array is required, shape now is \"+str(a.shape))\n",
    "    else:\n",
    "        if len(a.shape) == 2:\n",
    "            for i in range(a.shape[0]):\n",
    "                for j in range(a.shape[1]):\n",
    "                    s=str(a[i,j])+\"\\t\"\n",
    "#                    s=\" %12.5e\" % a[i,j]\n",
    "                    file.write(s)\n",
    "                file.write(\"\\n\")\n",
    "        else:\n",
    "            for i in range(a.shape[0]):\n",
    "                s=\"%2.10g\\n\" % a[i]\n",
    "                file.write(s)\n",
    "    print('done.')\n"
   ]
  },
  {
   "cell_type": "code",
   "execution_count": 141,
   "id": "860453a4-d5a5-4b86-97cf-6536ee33f662",
   "metadata": {
    "scrolled": true
   },
   "outputs": [],
   "source": [
    "def dump_sdds(coord, fname):\n",
    "        \"\"\"\n",
    "          write a sdds ELEGANT-compliant file using the data coord\n",
    "        \"\"\"\n",
    "        meanp    = coord.getData('MEANP', step=0)\n",
    "        betagamma_mean = np.sqrt(np.sum(meanp[0,:]**2))\n",
    "        qBunch   = coord.getData('TotalCharge', step=0)[0,0]\n",
    "        x  = coord.getData('x', step=0)\n",
    "        px = coord.getData('px', step=0)\n",
    "        y  = coord.getData('y', step=0)\n",
    "        py = coord.getData('py', step=0)\n",
    "        t  = coord.getData('time', step=0)\n",
    "        pz = coord.getData('pz', step=0)\n",
    "        id = 1+np.arange(len(t))\n",
    "        # issue with ID coord.getData('id', step=0)\n",
    "\n",
    "        t = t -t.mean()\n",
    "        numPart = len(id)\n",
    "        A  = np.vstack((x,px/pz,y, py/pz, t, np.sqrt(px**2+py**2+pz**2),id))\n",
    "        A[6,:]=A[6,:].astype('int')\n",
    "        x = coord.getData('x', step=0)\n",
    "        f=open(fname,'w');\n",
    "        f.write(\"SDDS1\\n\")\n",
    "#        f.write(\"&parameter name=Step, description=\\\"Simulation step\\\", type=long, &end \\n\")\n",
    "#        f.write(\"&parameter name=pCentral, symbol=\\\"p$bcen$n\\\", units=\\\"m$be$nc\\\", description=\\\"Reference beta*gamma\\\", type=double, &end\\n\")\n",
    "#        f.write(\"&parameter name=Charge, units=C, description=\\\"Beam charge\\\", type=double, &end\\n\")\n",
    "#        f.write(\"&parameter name=Particles, description=\\\"Number of particles\\\", type=long, &end\\n\")\n",
    "        f.write(\"&column name=x, units=m, type=double, &end \\n\")\n",
    "        f.write(\"&column name=xp, type=double,   &end \\n\")\n",
    "        f.write(\"&column name=y, units=m, type=double,  &end \\n\")\n",
    "        f.write(\"&column name=yp, type=double,  &end \\n\")\n",
    "        f.write(\"&column name=t, units=s, type=double,  &end \\n\")\n",
    "        f.write(\"&column name=p, type=double, units=\\\"m$be$nc\\\" &end \\n\")\n",
    "        f.write(\"&column name=particleID, type=long,  &end \\n\")\n",
    "        f.write(\"&data mode=ascii, &end \\n\")\n",
    "        f.write(\"! page number 1 \\n\") # this is the simulation step \n",
    "#        f.write(str(gamma_mean)+\"\\n\") #  reference energy (bunch average)\n",
    "#        f.write(str(qBunch)+\"\\n\")\n",
    "        f.write(str(numPart)+\"\\n\")\n",
    "#        f.write(str(numPart)+\"\\n\") # this is the number of lines\n",
    "        writeT(f,A.T);\n",
    "        f.close()\n",
    "\n"
   ]
  },
  {
   "cell_type": "code",
   "execution_count": 142,
   "id": "ad0a4da4-ed84-4ffd-97dd-1264e7ff0bbd",
   "metadata": {},
   "outputs": [
    {
     "name": "stdout",
     "output_type": "stream",
     "text": [
      "writing ...\n",
      "done.\n"
     ]
    }
   ],
   "source": [
    "dump_sdds(coord,'yag4opal.sdds')\n",
    "# do a sddsconvert -binary yag4opal.sdds cath2yag4.sdds as Pelegant wants binary inputs\n"
   ]
  },
  {
   "cell_type": "markdown",
   "id": "a3c04b00-0dc3-4032-9759-e53b0d480bc5",
   "metadata": {},
   "source": [
    "&sdds_beam\n",
    "        input = \"cath2yag4.sdds\"\n",
    "        input_type = \"elegant\"\n",
    "        sample_interval = 1\n",
    "&end\n",
    "\n",
    "&track\n",
    "&end\n"
   ]
  },
  {
   "cell_type": "code",
   "execution_count": null,
   "id": "7891a6ee-86ec-4c3c-b885-8754bd405f42",
   "metadata": {},
   "outputs": [],
   "source": []
  }
 ],
 "metadata": {
  "kernelspec": {
   "display_name": "Python 3 (ipykernel)",
   "language": "python",
   "name": "python3"
  },
  "language_info": {
   "codemirror_mode": {
    "name": "ipython",
    "version": 3
   },
   "file_extension": ".py",
   "mimetype": "text/x-python",
   "name": "python",
   "nbconvert_exporter": "python",
   "pygments_lexer": "ipython3",
   "version": "3.9.10"
  }
 },
 "nbformat": 4,
 "nbformat_minor": 5
}
